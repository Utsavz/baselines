{
 "cells": [
  {
   "cell_type": "code",
   "execution_count": 21,
   "metadata": {},
   "outputs": [],
   "source": [
    "import numpy as np"
   ]
  },
  {
   "cell_type": "code",
   "execution_count": 22,
   "metadata": {},
   "outputs": [],
   "source": [
    "\n",
    "x = np.random.random((2,2,3))\n",
    "y = np.random.random((2,2,3))"
   ]
  },
  {
   "cell_type": "code",
   "execution_count": 23,
   "metadata": {},
   "outputs": [
    {
     "name": "stdout",
     "output_type": "stream",
     "text": [
      "[[[0.91844202 0.55348489 0.05475559]\n",
      "  [0.54340625 0.92596242 0.00984545]]\n",
      "\n",
      " [[0.29493688 0.5556247  0.31709727]\n",
      "  [0.92224288 0.34531638 0.05934541]]]\n",
      "[[[0.00406533 0.23451058 0.87148291]\n",
      "  [0.43491911 0.84149571 0.26726193]]\n",
      "\n",
      " [[0.33085646 0.36515587 0.33720514]\n",
      "  [0.84798716 0.24093734 0.44072932]]]\n"
     ]
    }
   ],
   "source": [
    "print(x)\n",
    "print(y)"
   ]
  },
  {
   "cell_type": "code",
   "execution_count": 24,
   "metadata": {},
   "outputs": [
    {
     "name": "stdout",
     "output_type": "stream",
     "text": [
      "(12, 1)\n",
      "(12, 1)\n"
     ]
    },
    {
     "data": {
      "text/plain": [
       "array([[0.91844202, 0.00406533],\n",
       "       [0.55348489, 0.23451058],\n",
       "       [0.05475559, 0.87148291],\n",
       "       [0.54340625, 0.43491911],\n",
       "       [0.92596242, 0.84149571],\n",
       "       [0.00984545, 0.26726193],\n",
       "       [0.29493688, 0.33085646],\n",
       "       [0.5556247 , 0.36515587],\n",
       "       [0.31709727, 0.33720514],\n",
       "       [0.92224288, 0.84798716],\n",
       "       [0.34531638, 0.24093734],\n",
       "       [0.05934541, 0.44072932]])"
      ]
     },
     "execution_count": 24,
     "metadata": {},
     "output_type": "execute_result"
    }
   ],
   "source": [
    "y=np.expand_dims(y.reshape(-1),axis=1)\n",
    "x=np.expand_dims(x.reshape(-1),axis=1)\n",
    "print(x.shape)\n",
    "print(y.shape)\n",
    "z = np.concatenate((x,y),axis=1)\n",
    "z"
   ]
  },
  {
   "cell_type": "code",
   "execution_count": 25,
   "metadata": {},
   "outputs": [
    {
     "name": "stdout",
     "output_type": "stream",
     "text": [
      "[[[0.91844202 0.00406533 0.55348489 0.23451058 0.05475559 0.87148291]\n",
      "  [0.54340625 0.43491911 0.92596242 0.84149571 0.00984545 0.26726193]]\n",
      "\n",
      " [[0.29493688 0.33085646 0.5556247  0.36515587 0.31709727 0.33720514]\n",
      "  [0.92224288 0.84798716 0.34531638 0.24093734 0.05934541 0.44072932]]]\n"
     ]
    }
   ],
   "source": [
    "x = np.reshape(z,[2,2,6])\n",
    "print(x)\n"
   ]
  },
  {
   "cell_type": "code",
   "execution_count": 10,
   "metadata": {},
   "outputs": [
    {
     "data": {
      "text/plain": [
       "array([0, 1, 2, 3, 4, 5, 6, 7, 8])"
      ]
     },
     "execution_count": 10,
     "metadata": {},
     "output_type": "execute_result"
    }
   ],
   "source": [
    "y[0][0]"
   ]
  },
  {
   "cell_type": "code",
   "execution_count": 28,
   "metadata": {},
   "outputs": [
    {
     "data": {
      "text/plain": [
       "array([[0.45819974, 0.44361905],\n",
       "       [0.32364035, 0.91820987],\n",
       "       [0.38253885, 0.93264306],\n",
       "       [0.77888028, 0.47230485],\n",
       "       [0.56955184, 0.76257043]])"
      ]
     },
     "execution_count": 28,
     "metadata": {},
     "output_type": "execute_result"
    }
   ],
   "source": [
    "import numpy as np\n",
    "x = np.random.random([5,2])\n",
    "x"
   ]
  },
  {
   "cell_type": "code",
   "execution_count": 29,
   "metadata": {},
   "outputs": [
    {
     "data": {
      "text/plain": [
       "array([[0.93809566],\n",
       "       [0.14096707],\n",
       "       [0.89997976],\n",
       "       [0.58105568],\n",
       "       [0.94856   ]])"
      ]
     },
     "execution_count": 29,
     "metadata": {},
     "output_type": "execute_result"
    }
   ],
   "source": [
    "y = np.expand_dims(np.random.random((5,)),axis=1)\n",
    "y"
   ]
  },
  {
   "cell_type": "code",
   "execution_count": 30,
   "metadata": {},
   "outputs": [
    {
     "name": "stdout",
     "output_type": "stream",
     "text": [
      "(5, 3)\n"
     ]
    },
    {
     "data": {
      "text/plain": [
       "array([[0.45819974, 0.44361905, 0.93809566],\n",
       "       [0.32364035, 0.91820987, 0.14096707],\n",
       "       [0.38253885, 0.93264306, 0.89997976],\n",
       "       [0.77888028, 0.47230485, 0.58105568],\n",
       "       [0.56955184, 0.76257043, 0.94856   ]])"
      ]
     },
     "execution_count": 30,
     "metadata": {},
     "output_type": "execute_result"
    }
   ],
   "source": [
    "last = np.concatenate((x,y),axis=1)\n",
    "print(last.shape)\n",
    "last\n"
   ]
  },
  {
   "cell_type": "code",
   "execution_count": 31,
   "metadata": {},
   "outputs": [
    {
     "data": {
      "text/plain": [
       "array([[0.44361905, 0.93809566],\n",
       "       [0.91820987, 0.14096707],\n",
       "       [0.93264306, 0.89997976],\n",
       "       [0.47230485, 0.58105568],\n",
       "       [0.76257043, 0.94856   ]])"
      ]
     },
     "execution_count": 31,
     "metadata": {},
     "output_type": "execute_result"
    }
   ],
   "source": [
    "last[:,1:]"
   ]
  },
  {
   "cell_type": "code",
   "execution_count": 2,
   "metadata": {},
   "outputs": [],
   "source": [
    "import matplotlib.pyplot as plt"
   ]
  },
  {
   "cell_type": "code",
   "execution_count": 7,
   "metadata": {},
   "outputs": [
    {
     "name": "stdout",
     "output_type": "stream",
     "text": [
      "[100, 200, 300, 400, 500, 600, 700, 800, 900, 1000]\n"
     ]
    },
    {
     "data": {
      "image/png": "[encoded data removed]",
      "text/plain": [
       "<Figure size 432x288 with 1 Axes>"
      ]
     },
     "metadata": {
      "needs_background": "light"
     },
     "output_type": "display_data"
    }
   ],
   "source": [
    "x = [i*100 for i in range(1,11)]\n",
    "print(x)\n",
    "y = [44.2,45.71,48.4,56.8,60.9,63.9,67,70.6,76,82.3]\n",
    "plt.plot(x, y)\n",
    "plt.xlabel(\"No of Nodes\")\n",
    "plt.ylabel(\"PDR\")\n",
    "plt.show()"
   ]
  },
  {
   "cell_type": "code",
   "execution_count": 9,
   "metadata": {},
   "outputs": [
    {
     "data": {
      "image/png": "[encoded data removed]",
      "text/plain": [
       "<Figure size 432x288 with 1 Axes>"
      ]
     },
     "metadata": {
      "needs_background": "light"
     },
     "output_type": "display_data"
    }
   ],
   "source": [
    "import matplotlib.pyplot as plt\n",
    "import numpy as np\n",
    "%matplotlib inline\n",
    "x = [i*100 for i in range(1,11)]\n",
    "plt.hist(x, normed=True, bins=30)\n",
    "plt.ylabel('Probability');"
   ]
  },
  {
   "cell_type": "code",
   "execution_count": 85,
   "metadata": {},
   "outputs": [],
   "source": [
    "x = np.expand_dims(np.arange(12),axis=0)\n",
    "y = np.expand_dims(np.arange(12),axis=0)\n",
    "a = np.concatenate((x,y),axis = 0)"
   ]
  },
  {
   "cell_type": "code",
   "execution_count": 86,
   "metadata": {},
   "outputs": [
    {
     "name": "stdout",
     "output_type": "stream",
     "text": [
      "(2, 12)\n"
     ]
    },
    {
     "data": {
      "text/plain": [
       "array([[ 0,  1,  2,  3,  4,  5,  6,  7,  8,  9, 10, 11],\n",
       "       [ 0,  1,  2,  3,  4,  5,  6,  7,  8,  9, 10, 11]])"
      ]
     },
     "execution_count": 86,
     "metadata": {},
     "output_type": "execute_result"
    }
   ],
   "source": [
    "print(a.shape)\n",
    "a\n"
   ]
  },
  {
   "cell_type": "code",
   "execution_count": 90,
   "metadata": {},
   "outputs": [
    {
     "name": "stdout",
     "output_type": "stream",
     "text": [
      "[[[ 0  1  2  3]\n",
      "  [ 4  5  6  7]\n",
      "  [ 8  9 10 11]]\n",
      "\n",
      " [[ 0  1  2  3]\n",
      "  [ 4  5  6  7]\n",
      "  [ 8  9 10 11]]]\n"
     ]
    }
   ],
   "source": [
    "size = len(a[0])//3\n",
    "y = np.reshape(a,[-1,3,size])\n",
    "print(y)"
   ]
  },
  {
   "cell_type": "code",
   "execution_count": 91,
   "metadata": {},
   "outputs": [
    {
     "data": {
      "text/plain": [
       "array([[[ 0,  4,  8],\n",
       "        [ 1,  5,  9],\n",
       "        [ 2,  6, 10],\n",
       "        [ 3,  7, 11]],\n",
       "\n",
       "       [[ 0,  4,  8],\n",
       "        [ 1,  5,  9],\n",
       "        [ 2,  6, 10],\n",
       "        [ 3,  7, 11]]])"
      ]
     },
     "execution_count": 91,
     "metadata": {},
     "output_type": "execute_result"
    }
   ],
   "source": [
    "z = np.swapaxes(y,1,2)\n",
    "z"
   ]
  },
  {
   "cell_type": "code",
   "execution_count": 84,
   "metadata": {},
   "outputs": [
    {
     "data": {
      "text/plain": [
       "array([[[[ 0,  4,  8],\n",
       "         [ 1,  5,  9]],\n",
       "\n",
       "        [[ 2,  6, 10],\n",
       "         [ 3,  7, 11]]],\n",
       "\n",
       "\n",
       "       [[[ 0,  4,  8],\n",
       "         [ 1,  5,  9]],\n",
       "\n",
       "        [[ 2,  6, 10],\n",
       "         [ 3,  7, 11]]]])"
      ]
     },
     "execution_count": 84,
     "metadata": {},
     "output_type": "execute_result"
    }
   ],
   "source": [
    "z = np.reshape(z,[-1,2,2,3])\n",
    "z"
   ]
  },
  {
   "cell_type": "code",
   "execution_count": 58,
   "metadata": {},
   "outputs": [
    {
     "name": "stdout",
     "output_type": "stream",
     "text": [
      "3\n"
     ]
    }
   ],
   "source": [
    "print(len(z[0][0]))"
   ]
  },
  {
   "cell_type": "code",
   "execution_count": null,
   "metadata": {},
   "outputs": [],
   "source": []
  }
 ],
 "metadata": {
  "kernelspec": {
   "display_name": "Python 3",
   "language": "python",
   "name": "python3"
  }
 },
 "nbformat": 4,
 "nbformat_minor": 2
}
